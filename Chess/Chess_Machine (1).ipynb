{
  "cells": [
    {
      "cell_type": "code",
      "execution_count": 2,
      "metadata": {
        "id": "4rfXl8EdhbLj"
      },
      "outputs": [],
      "source": [
        "boardc=[\"A1\",\"A2\",\"A3\",\"A4\",\"A5\",\"A6\",\"A7\",\"A8\",\"B1\",\"B2\",\"B3\",\"B4\",\"B5\",\"B6\",\"B7\",\"B8\",\"C1\",\"C2\",\"C3\",\"C4\",\"C5\",\"C6\",\"C7\",\"C8\",\"D1\",\"D2\",\"D3\",\"D4\",\"D5\",\"D6\",\"D7\",\"D8\",\"E1\",\"E2\",\"E3\",\"E4\",\"E5\",\"E6\",\"E7\",\"E8\"]"
      ]
    },
    {
      "cell_type": "code",
      "execution_count": 1,
      "metadata": {
        "colab": {
          "base_uri": "https://localhost:8080/",
          "height": 141
        },
        "id": "TQQTQmFyffqf",
        "outputId": "74a5e46d-3adb-457d-fd8a-1e2c650a1962"
      },
      "outputs": [
        {
          "data": {
            "text/html": [
              "<div>\n",
              "<style scoped>\n",
              "    .dataframe tbody tr th:only-of-type {\n",
              "        vertical-align: middle;\n",
              "    }\n",
              "\n",
              "    .dataframe tbody tr th {\n",
              "        vertical-align: top;\n",
              "    }\n",
              "\n",
              "    .dataframe thead th {\n",
              "        text-align: right;\n",
              "    }\n",
              "</style>\n",
              "<table border=\"1\" class=\"dataframe\">\n",
              "  <thead>\n",
              "    <tr style=\"text-align: right;\">\n",
              "      <th></th>\n",
              "      <th>A1</th>\n",
              "      <th>A2</th>\n",
              "      <th>A3</th>\n",
              "      <th>A4</th>\n",
              "      <th>A5</th>\n",
              "      <th>A6</th>\n",
              "      <th>A7</th>\n",
              "      <th>A8</th>\n",
              "      <th>B1</th>\n",
              "      <th>B2</th>\n",
              "      <th>...</th>\n",
              "      <th>G7</th>\n",
              "      <th>G8</th>\n",
              "      <th>H1</th>\n",
              "      <th>H2</th>\n",
              "      <th>H3</th>\n",
              "      <th>H4</th>\n",
              "      <th>H5</th>\n",
              "      <th>H6</th>\n",
              "      <th>H7</th>\n",
              "      <th>H8</th>\n",
              "    </tr>\n",
              "  </thead>\n",
              "  <tbody>\n",
              "    <tr>\n",
              "      <th>0</th>\n",
              "      <td>LBR</td>\n",
              "      <td>LBK</td>\n",
              "      <td>LBB</td>\n",
              "      <td>BQ</td>\n",
              "      <td>BK</td>\n",
              "      <td>RBB</td>\n",
              "      <td>RBK</td>\n",
              "      <td>RBR</td>\n",
              "      <td>'BP1'</td>\n",
              "      <td>'BP2'</td>\n",
              "      <td>...</td>\n",
              "      <td>'WP7'</td>\n",
              "      <td>'WP8'</td>\n",
              "      <td>\"LWR\"</td>\n",
              "      <td>LWK</td>\n",
              "      <td>LWB</td>\n",
              "      <td>WQ</td>\n",
              "      <td>WK</td>\n",
              "      <td>RWB</td>\n",
              "      <td>RWK</td>\n",
              "      <td>RWR</td>\n",
              "    </tr>\n",
              "    <tr>\n",
              "      <th>1</th>\n",
              "      <td>LBR</td>\n",
              "      <td>LBK</td>\n",
              "      <td>LBB</td>\n",
              "      <td>BQ</td>\n",
              "      <td>BK</td>\n",
              "      <td>RBB</td>\n",
              "      <td>RBK</td>\n",
              "      <td>RBR</td>\n",
              "      <td>'BP1'</td>\n",
              "      <td>'BP2'</td>\n",
              "      <td>...</td>\n",
              "      <td>'WP7'</td>\n",
              "      <td>'WP8'</td>\n",
              "      <td>\"LWR\"</td>\n",
              "      <td>LWK</td>\n",
              "      <td>LWB</td>\n",
              "      <td>WQ</td>\n",
              "      <td>WK</td>\n",
              "      <td>RWB</td>\n",
              "      <td>RWK</td>\n",
              "      <td>RWR</td>\n",
              "    </tr>\n",
              "  </tbody>\n",
              "</table>\n",
              "<p>2 rows × 64 columns</p>\n",
              "</div>"
            ],
            "text/plain": [
              "    A1   A2   A3  A4  A5   A6   A7    A8      B1      B2  ...      G7  \\\n",
              "0  LBR  LBK  LBB  BQ  BK  RBB  RBK  RBR    'BP1'   'BP2'  ...   'WP7'   \n",
              "1  LBR  LBK  LBB  BQ  BK  RBB  RBK  RBR    'BP1'   'BP2'  ...   'WP7'   \n",
              "\n",
              "        G8      H1   H2   H3  H4  H5   H6   H7   H8  \n",
              "0   'WP8'    \"LWR\"  LWK  LWB  WQ  WK  RWB  RWK  RWR  \n",
              "1   'WP8'    \"LWR\"  LWK  LWB  WQ  WK  RWB  RWK  RWR  \n",
              "\n",
              "[2 rows x 64 columns]"
            ]
          },
          "execution_count": 1,
          "metadata": {},
          "output_type": "execute_result"
        }
      ],
      "source": [
        "import pandas as pd\n",
        "\n",
        "ds=pd.read_csv('Sici_mov1.csv')\n",
        "ds"
      ]
    },
    {
      "cell_type": "code",
      "execution_count": 3,
      "metadata": {
        "colab": {
          "base_uri": "https://localhost:8080/"
        },
        "id": "BTpz_m2TKbqR",
        "outputId": "57e1e651-e616-4279-f4ef-b1580cc90b76"
      },
      "outputs": [
        {
          "data": {
            "text/plain": [
              "[['LBR', 'LBK', 'LBB', 'BQ', 'BK', 'RBB', 'RBK', 'RBR'],\n",
              " ['BP1', 'BP2', 'BP3', 'BP4', 'BP5', 'BP6', 'BP7', 'BP8'],\n",
              " ['0', '0', '0', '0', '0', '0', '0', '0'],\n",
              " ['0', '0', '0', '0', '0', '0', '0', '0'],\n",
              " ['0', '0', '0', '0', '0', '0', '0', '0'],\n",
              " ['0', '0', '0', '0', '0', '0', '0', '0'],\n",
              " ['WP1', 'WP2', 'WP3', 'WP4', 'WP5', 'WP6', 'WP7', 'WP8'],\n",
              " ['LWR', 'LWK', 'LWB', 'WQ', 'WK', 'RWB', 'RWK', 'RWR']]"
            ]
          },
          "execution_count": 3,
          "metadata": {},
          "output_type": "execute_result"
        }
      ],
      "source": [
        "import numpy as np\n",
        "\n",
        "m=8\n",
        "n=8\n",
        "board=[[\"LBR\",\"LBK\",\"LBB\",\"BQ\",\"BK\",\"RBB\",\"RBK\",\"RBR\"],\n",
        " ['BP1', 'BP2', 'BP3', 'BP4', 'BP5', 'BP6', 'BP7', 'BP8'],\n",
        "  ['0', '0', '0', '0', '0', '0', '0', '0'],\n",
        "       ['0', '0', '0', '0', '0', '0', '0', '0'],\n",
        "       ['0', '0', '0', '0', '0', '0', '0', '0'],\n",
        "       ['0', '0', '0', '0', '0', '0', '0', '0'],\n",
        "       ['WP1', 'WP2', 'WP3', 'WP4', 'WP5', 'WP6', 'WP7', 'WP8'],\n",
        "       [\"LWR\",\"LWK\",\"LWB\",\"WQ\",\"WK\",\"RWB\",\"RWK\",\"RWR\"]\n",
        "]\n",
        "board"
      ]
    },
    {
      "cell_type": "code",
      "execution_count": 4,
      "metadata": {
        "id": "V1ecCvmSHq7m"
      },
      "outputs": [],
      "source": [
        "pawn=['BP1', 'BP2', 'BP3', 'BP4', 'BP5', 'BP6', 'BP7', 'BP8','WP1', 'WP2', 'WP3', 'WP4', 'WP5', 'WP6', 'WP7', 'WP8']\n",
        "king=['BK','WK']\n",
        "queen=['BK','WK']\n",
        "rook=[\"LBR\",\"RBR\",\"LWR\",\"RWR\"]\n",
        "bishop=[\"LBB\",\"RBB\",\"LWB\",\"RWB\"]\n",
        "knight=[\"LBK\",\"RBK\",\"LWK\",\"RWK\"]\n",
        "black=[\"LBR\",\"LBK\",\"LBB\",\"BQ\",\"BK\",\"RBB\",\"RBK\",\"RBR\",'BP1', 'BP2', 'BP3', 'BP4', 'BP5', 'BP6', 'BP7', 'BP8']\n",
        "white= ['WP1', 'WP2', 'WP3', 'WP4', 'WP5', 'WP6', 'WP7', 'WP8',\"LWR\",\"LWK\",\"LWB\",\"WQ\",\"WK\",\"RWB\",\"RWK\",\"RWR\"]"
      ]
    },
    {
      "cell_type": "code",
      "execution_count": 13,
      "metadata": {
        "id": "bk3KC3ahMftf"
      },
      "outputs": [],
      "source": [
        "def mpc(pc):\n",
        "  if(pc==\"black\"):\n",
        "    up=+1\n",
        "    down=-1\n",
        "    left=+1\n",
        "    right=-1\n",
        "    return [up,down,left,right]\n",
        "  elif(pc==\"white\"):\n",
        "    up=-1\n",
        "    down=+1\n",
        "    left=-1\n",
        "    right=+1\n",
        "    return [up,down,left,right]"
      ]
    },
    {
      "cell_type": "code",
      "execution_count": 6,
      "metadata": {
        "id": "wbTBqkscJXjV"
      },
      "outputs": [],
      "source": [
        "def pawn(piece,pc,plc):\n",
        "  mov=mpc(pc)\n",
        "  up=mov[0]\n",
        "  down=mov[1]\n",
        "  left=mov[2]\n",
        "  right= mov[3]\n",
        "  for i in range(1):\n",
        "    try:\n",
        "      x=plc[0]\n",
        "      y=plc[1]\n",
        "      if(board[x+up][y]=='0'):\n",
        "        print(\"space to go front\")\n",
        "      else:\n",
        "        print(\"Blocked by \" + board[x+up][y])\n",
        "\n",
        "      if(board[x+up][y+right] !='0'):\n",
        "        print(\"Enemy to strike\"+ board[x+up][y+right])\n",
        "\n",
        "      if(board[x+up][y-left] !='0'):\n",
        "        print(\"Enemy to strike\"+ board[x+up][y-left])\n",
        "    except:\n",
        "      pass"
      ]
    },
    {
      "cell_type": "code",
      "execution_count": 33,
      "metadata": {
        "colab": {
          "base_uri": "https://localhost:8080/",
          "height": 140
        },
        "id": "Ay-IYWTKVIDC",
        "outputId": "37b64d9a-2e89-4cee-f8ef-d98011a479cf"
      },
      "outputs": [],
      "source": [
        "def bishop(piece,pc,plc):\n",
        "\n",
        "  for i in range(1):\n",
        "    try:\n",
        "      x=plc[0]\n",
        "      y=plc[1]\n",
        "      m=1\n",
        "      # Check upper diagonal on left side\n",
        "      for i, j in zip(range(x, -1, -1), range(y, -1, -1)):\n",
        "          if board[i][j] !=0:\n",
        "              m=0\n",
        "              print(\"entered ud\")\n",
        "              break\n",
        "      # Check lower diagonal on left side\n",
        "      for i, j in zip(range(x, 8, 1), range(y, -1, -1)):\n",
        "          if board[i][j] != 0:\n",
        "              m=0\n",
        "              print(\"entered ld\")\n",
        "              break\n",
        "      if(m==1):\n",
        "         print(\"space is free to move\")\n",
        "      else:\n",
        "        print(\"Blocked by \" )\n",
        "      '''\n",
        "      if(board[x+up][y+right] !='0'):\n",
        "        print(\"Enemy to strike\"+ board[x+up][y+right])\n",
        "\n",
        "      if(board[x+up][y-left] !='0'):\n",
        "        print(\"Enemy to strike\"+ board[x+up][y-left])\n",
        "    '''\n",
        "    except:\n",
        "      pass"
      ]
    },
    {
      "cell_type": "code",
      "execution_count": 34,
      "metadata": {
        "colab": {
          "base_uri": "https://localhost:8080/",
          "height": 35
        },
        "id": "27U8c8KwNOdK",
        "outputId": "0f3a0657-7f41-458d-c4e1-f5de48906efe"
      },
      "outputs": [
        {
          "name": "stdout",
          "output_type": "stream",
          "text": [
            "entered ud\n",
            "entered ld\n",
            "Blocked by \n"
          ]
        }
      ],
      "source": [
        "bishop(\"LBB\",\"black\",[2,7])"
      ]
    },
    {
      "cell_type": "code",
      "execution_count": 30,
      "metadata": {},
      "outputs": [
        {
          "name": "stdout",
          "output_type": "stream",
          "text": [
            "space is free to move\n"
          ]
        }
      ],
      "source": [
        "bishop(\"RWB\",\"white\",[7,2])"
      ]
    }
  ],
  "metadata": {
    "colab": {
      "provenance": []
    },
    "kernelspec": {
      "display_name": "Python 3",
      "name": "python3"
    },
    "language_info": {
      "codemirror_mode": {
        "name": "ipython",
        "version": 3
      },
      "file_extension": ".py",
      "mimetype": "text/x-python",
      "name": "python",
      "nbconvert_exporter": "python",
      "pygments_lexer": "ipython3",
      "version": "3.11.5"
    }
  },
  "nbformat": 4,
  "nbformat_minor": 0
}
