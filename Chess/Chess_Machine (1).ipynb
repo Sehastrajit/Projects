{
  "nbformat": 4,
  "nbformat_minor": 0,
  "metadata": {
    "colab": {
      "provenance": []
    },
    "kernelspec": {
      "name": "python3",
      "display_name": "Python 3"
    },
    "language_info": {
      "name": "python"
    }
  },
  "cells": [
    {
      "cell_type": "code",
      "source": [
        "from google.colab import drive\n",
        "drive.mount('/content/gdrive')"
      ],
      "metadata": {
        "id": "Ev6OolBafywn",
        "colab": {
          "base_uri": "https://localhost:8080/"
        },
        "outputId": "8b38abfa-51dd-4db8-a34d-5e13a19e5ad9"
      },
      "execution_count": 1,
      "outputs": [
        {
          "output_type": "stream",
          "name": "stdout",
          "text": [
            "Mounted at /content/gdrive\n"
          ]
        }
      ]
    },
    {
      "cell_type": "code",
      "source": [
        "cd /content/gdrive/My Drive/Colab Notebooks"
      ],
      "metadata": {
        "colab": {
          "base_uri": "https://localhost:8080/"
        },
        "id": "13OevrkygBqv",
        "outputId": "058f1d44-dc08-49a6-ce3c-9a0494fe9418"
      },
      "execution_count": 2,
      "outputs": [
        {
          "output_type": "stream",
          "name": "stdout",
          "text": [
            "/content/gdrive/My Drive/Colab Notebooks\n"
          ]
        }
      ]
    },
    {
      "cell_type": "code",
      "source": [
        "boardc=[\"A1\",\"A2\",\"A3\",\"A4\",\"A5\",\"A6\",\"A7\",\"A8\",\"B1\",\"B2\",\"B3\",\"B4\",\"B5\",\"B6\",\"B7\",\"B8\",\"C1\",\"C2\",\"C3\",\"C4\",\"C5\",\"C6\",\"C7\",\"C8\",\"D1\",\"D2\",\"D3\",\"D4\",\"D5\",\"D6\",\"D7\",\"D8\",\"E1\",\"E2\",\"E3\",\"E4\",\"E5\",\"E6\",\"E7\",\"E8\"]"
      ],
      "metadata": {
        "id": "4rfXl8EdhbLj"
      },
      "execution_count": 3,
      "outputs": []
    },
    {
      "cell_type": "code",
      "source": [
        "import pandas as pd\n",
        "\n",
        "ds=pd.read_csv('Sici_mov1.csv')\n",
        "ds"
      ],
      "metadata": {
        "id": "TQQTQmFyffqf",
        "colab": {
          "base_uri": "https://localhost:8080/",
          "height": 141
        },
        "outputId": "74a5e46d-3adb-457d-fd8a-1e2c650a1962"
      },
      "execution_count": 4,
      "outputs": [
        {
          "output_type": "execute_result",
          "data": {
            "text/plain": [
              "    A1   A2   A3  A4  A5   A6   A7    A8      B1      B2  ...      G7  \\\n",
              "0  LBR  LBK  LBB  BQ  BK  RBB  RBK  RBR    'BP1'   'BP2'  ...   'WP7'   \n",
              "1  LBR  LBK  LBB  BQ  BK  RBB  RBK  RBR    'BP1'   'BP2'  ...   'WP7'   \n",
              "\n",
              "        G8      H1   H2   H3  H4  H5   H6   H7   H8  \n",
              "0   'WP8'    \"LWR\"  LWK  LWB  WQ  WK  RWB  RWK  RWR  \n",
              "1   'WP8'    \"LWR\"  LWK  LWB  WQ  WK  RWB  RWK  RWR  \n",
              "\n",
              "[2 rows x 64 columns]"
            ],
            "text/html": [
              "\n",
              "  <div id=\"df-17a5331f-1f3b-4102-8099-becc1f877eb3\" class=\"colab-df-container\">\n",
              "    <div>\n",
              "<style scoped>\n",
              "    .dataframe tbody tr th:only-of-type {\n",
              "        vertical-align: middle;\n",
              "    }\n",
              "\n",
              "    .dataframe tbody tr th {\n",
              "        vertical-align: top;\n",
              "    }\n",
              "\n",
              "    .dataframe thead th {\n",
              "        text-align: right;\n",
              "    }\n",
              "</style>\n",
              "<table border=\"1\" class=\"dataframe\">\n",
              "  <thead>\n",
              "    <tr style=\"text-align: right;\">\n",
              "      <th></th>\n",
              "      <th>A1</th>\n",
              "      <th>A2</th>\n",
              "      <th>A3</th>\n",
              "      <th>A4</th>\n",
              "      <th>A5</th>\n",
              "      <th>A6</th>\n",
              "      <th>A7</th>\n",
              "      <th>A8</th>\n",
              "      <th>B1</th>\n",
              "      <th>B2</th>\n",
              "      <th>...</th>\n",
              "      <th>G7</th>\n",
              "      <th>G8</th>\n",
              "      <th>H1</th>\n",
              "      <th>H2</th>\n",
              "      <th>H3</th>\n",
              "      <th>H4</th>\n",
              "      <th>H5</th>\n",
              "      <th>H6</th>\n",
              "      <th>H7</th>\n",
              "      <th>H8</th>\n",
              "    </tr>\n",
              "  </thead>\n",
              "  <tbody>\n",
              "    <tr>\n",
              "      <th>0</th>\n",
              "      <td>LBR</td>\n",
              "      <td>LBK</td>\n",
              "      <td>LBB</td>\n",
              "      <td>BQ</td>\n",
              "      <td>BK</td>\n",
              "      <td>RBB</td>\n",
              "      <td>RBK</td>\n",
              "      <td>RBR</td>\n",
              "      <td>'BP1'</td>\n",
              "      <td>'BP2'</td>\n",
              "      <td>...</td>\n",
              "      <td>'WP7'</td>\n",
              "      <td>'WP8'</td>\n",
              "      <td>\"LWR\"</td>\n",
              "      <td>LWK</td>\n",
              "      <td>LWB</td>\n",
              "      <td>WQ</td>\n",
              "      <td>WK</td>\n",
              "      <td>RWB</td>\n",
              "      <td>RWK</td>\n",
              "      <td>RWR</td>\n",
              "    </tr>\n",
              "    <tr>\n",
              "      <th>1</th>\n",
              "      <td>LBR</td>\n",
              "      <td>LBK</td>\n",
              "      <td>LBB</td>\n",
              "      <td>BQ</td>\n",
              "      <td>BK</td>\n",
              "      <td>RBB</td>\n",
              "      <td>RBK</td>\n",
              "      <td>RBR</td>\n",
              "      <td>'BP1'</td>\n",
              "      <td>'BP2'</td>\n",
              "      <td>...</td>\n",
              "      <td>'WP7'</td>\n",
              "      <td>'WP8'</td>\n",
              "      <td>\"LWR\"</td>\n",
              "      <td>LWK</td>\n",
              "      <td>LWB</td>\n",
              "      <td>WQ</td>\n",
              "      <td>WK</td>\n",
              "      <td>RWB</td>\n",
              "      <td>RWK</td>\n",
              "      <td>RWR</td>\n",
              "    </tr>\n",
              "  </tbody>\n",
              "</table>\n",
              "<p>2 rows × 64 columns</p>\n",
              "</div>\n",
              "    <div class=\"colab-df-buttons\">\n",
              "\n",
              "  <div class=\"colab-df-container\">\n",
              "    <button class=\"colab-df-convert\" onclick=\"convertToInteractive('df-17a5331f-1f3b-4102-8099-becc1f877eb3')\"\n",
              "            title=\"Convert this dataframe to an interactive table.\"\n",
              "            style=\"display:none;\">\n",
              "\n",
              "  <svg xmlns=\"http://www.w3.org/2000/svg\" height=\"24px\" viewBox=\"0 -960 960 960\">\n",
              "    <path d=\"M120-120v-720h720v720H120Zm60-500h600v-160H180v160Zm220 220h160v-160H400v160Zm0 220h160v-160H400v160ZM180-400h160v-160H180v160Zm440 0h160v-160H620v160ZM180-180h160v-160H180v160Zm440 0h160v-160H620v160Z\"/>\n",
              "  </svg>\n",
              "    </button>\n",
              "\n",
              "  <style>\n",
              "    .colab-df-container {\n",
              "      display:flex;\n",
              "      gap: 12px;\n",
              "    }\n",
              "\n",
              "    .colab-df-convert {\n",
              "      background-color: #E8F0FE;\n",
              "      border: none;\n",
              "      border-radius: 50%;\n",
              "      cursor: pointer;\n",
              "      display: none;\n",
              "      fill: #1967D2;\n",
              "      height: 32px;\n",
              "      padding: 0 0 0 0;\n",
              "      width: 32px;\n",
              "    }\n",
              "\n",
              "    .colab-df-convert:hover {\n",
              "      background-color: #E2EBFA;\n",
              "      box-shadow: 0px 1px 2px rgba(60, 64, 67, 0.3), 0px 1px 3px 1px rgba(60, 64, 67, 0.15);\n",
              "      fill: #174EA6;\n",
              "    }\n",
              "\n",
              "    .colab-df-buttons div {\n",
              "      margin-bottom: 4px;\n",
              "    }\n",
              "\n",
              "    [theme=dark] .colab-df-convert {\n",
              "      background-color: #3B4455;\n",
              "      fill: #D2E3FC;\n",
              "    }\n",
              "\n",
              "    [theme=dark] .colab-df-convert:hover {\n",
              "      background-color: #434B5C;\n",
              "      box-shadow: 0px 1px 3px 1px rgba(0, 0, 0, 0.15);\n",
              "      filter: drop-shadow(0px 1px 2px rgba(0, 0, 0, 0.3));\n",
              "      fill: #FFFFFF;\n",
              "    }\n",
              "  </style>\n",
              "\n",
              "    <script>\n",
              "      const buttonEl =\n",
              "        document.querySelector('#df-17a5331f-1f3b-4102-8099-becc1f877eb3 button.colab-df-convert');\n",
              "      buttonEl.style.display =\n",
              "        google.colab.kernel.accessAllowed ? 'block' : 'none';\n",
              "\n",
              "      async function convertToInteractive(key) {\n",
              "        const element = document.querySelector('#df-17a5331f-1f3b-4102-8099-becc1f877eb3');\n",
              "        const dataTable =\n",
              "          await google.colab.kernel.invokeFunction('convertToInteractive',\n",
              "                                                    [key], {});\n",
              "        if (!dataTable) return;\n",
              "\n",
              "        const docLinkHtml = 'Like what you see? Visit the ' +\n",
              "          '<a target=\"_blank\" href=https://colab.research.google.com/notebooks/data_table.ipynb>data table notebook</a>'\n",
              "          + ' to learn more about interactive tables.';\n",
              "        element.innerHTML = '';\n",
              "        dataTable['output_type'] = 'display_data';\n",
              "        await google.colab.output.renderOutput(dataTable, element);\n",
              "        const docLink = document.createElement('div');\n",
              "        docLink.innerHTML = docLinkHtml;\n",
              "        element.appendChild(docLink);\n",
              "      }\n",
              "    </script>\n",
              "  </div>\n",
              "\n",
              "\n",
              "<div id=\"df-9559f75f-9b5d-44e5-ac1f-9adfe86230b1\">\n",
              "  <button class=\"colab-df-quickchart\" onclick=\"quickchart('df-9559f75f-9b5d-44e5-ac1f-9adfe86230b1')\"\n",
              "            title=\"Suggest charts.\"\n",
              "            style=\"display:none;\">\n",
              "\n",
              "<svg xmlns=\"http://www.w3.org/2000/svg\" height=\"24px\"viewBox=\"0 0 24 24\"\n",
              "     width=\"24px\">\n",
              "    <g>\n",
              "        <path d=\"M19 3H5c-1.1 0-2 .9-2 2v14c0 1.1.9 2 2 2h14c1.1 0 2-.9 2-2V5c0-1.1-.9-2-2-2zM9 17H7v-7h2v7zm4 0h-2V7h2v10zm4 0h-2v-4h2v4z\"/>\n",
              "    </g>\n",
              "</svg>\n",
              "  </button>\n",
              "\n",
              "<style>\n",
              "  .colab-df-quickchart {\n",
              "      --bg-color: #E8F0FE;\n",
              "      --fill-color: #1967D2;\n",
              "      --hover-bg-color: #E2EBFA;\n",
              "      --hover-fill-color: #174EA6;\n",
              "      --disabled-fill-color: #AAA;\n",
              "      --disabled-bg-color: #DDD;\n",
              "  }\n",
              "\n",
              "  [theme=dark] .colab-df-quickchart {\n",
              "      --bg-color: #3B4455;\n",
              "      --fill-color: #D2E3FC;\n",
              "      --hover-bg-color: #434B5C;\n",
              "      --hover-fill-color: #FFFFFF;\n",
              "      --disabled-bg-color: #3B4455;\n",
              "      --disabled-fill-color: #666;\n",
              "  }\n",
              "\n",
              "  .colab-df-quickchart {\n",
              "    background-color: var(--bg-color);\n",
              "    border: none;\n",
              "    border-radius: 50%;\n",
              "    cursor: pointer;\n",
              "    display: none;\n",
              "    fill: var(--fill-color);\n",
              "    height: 32px;\n",
              "    padding: 0;\n",
              "    width: 32px;\n",
              "  }\n",
              "\n",
              "  .colab-df-quickchart:hover {\n",
              "    background-color: var(--hover-bg-color);\n",
              "    box-shadow: 0 1px 2px rgba(60, 64, 67, 0.3), 0 1px 3px 1px rgba(60, 64, 67, 0.15);\n",
              "    fill: var(--button-hover-fill-color);\n",
              "  }\n",
              "\n",
              "  .colab-df-quickchart-complete:disabled,\n",
              "  .colab-df-quickchart-complete:disabled:hover {\n",
              "    background-color: var(--disabled-bg-color);\n",
              "    fill: var(--disabled-fill-color);\n",
              "    box-shadow: none;\n",
              "  }\n",
              "\n",
              "  .colab-df-spinner {\n",
              "    border: 2px solid var(--fill-color);\n",
              "    border-color: transparent;\n",
              "    border-bottom-color: var(--fill-color);\n",
              "    animation:\n",
              "      spin 1s steps(1) infinite;\n",
              "  }\n",
              "\n",
              "  @keyframes spin {\n",
              "    0% {\n",
              "      border-color: transparent;\n",
              "      border-bottom-color: var(--fill-color);\n",
              "      border-left-color: var(--fill-color);\n",
              "    }\n",
              "    20% {\n",
              "      border-color: transparent;\n",
              "      border-left-color: var(--fill-color);\n",
              "      border-top-color: var(--fill-color);\n",
              "    }\n",
              "    30% {\n",
              "      border-color: transparent;\n",
              "      border-left-color: var(--fill-color);\n",
              "      border-top-color: var(--fill-color);\n",
              "      border-right-color: var(--fill-color);\n",
              "    }\n",
              "    40% {\n",
              "      border-color: transparent;\n",
              "      border-right-color: var(--fill-color);\n",
              "      border-top-color: var(--fill-color);\n",
              "    }\n",
              "    60% {\n",
              "      border-color: transparent;\n",
              "      border-right-color: var(--fill-color);\n",
              "    }\n",
              "    80% {\n",
              "      border-color: transparent;\n",
              "      border-right-color: var(--fill-color);\n",
              "      border-bottom-color: var(--fill-color);\n",
              "    }\n",
              "    90% {\n",
              "      border-color: transparent;\n",
              "      border-bottom-color: var(--fill-color);\n",
              "    }\n",
              "  }\n",
              "</style>\n",
              "\n",
              "  <script>\n",
              "    async function quickchart(key) {\n",
              "      const quickchartButtonEl =\n",
              "        document.querySelector('#' + key + ' button');\n",
              "      quickchartButtonEl.disabled = true;  // To prevent multiple clicks.\n",
              "      quickchartButtonEl.classList.add('colab-df-spinner');\n",
              "      try {\n",
              "        const charts = await google.colab.kernel.invokeFunction(\n",
              "            'suggestCharts', [key], {});\n",
              "      } catch (error) {\n",
              "        console.error('Error during call to suggestCharts:', error);\n",
              "      }\n",
              "      quickchartButtonEl.classList.remove('colab-df-spinner');\n",
              "      quickchartButtonEl.classList.add('colab-df-quickchart-complete');\n",
              "    }\n",
              "    (() => {\n",
              "      let quickchartButtonEl =\n",
              "        document.querySelector('#df-9559f75f-9b5d-44e5-ac1f-9adfe86230b1 button');\n",
              "      quickchartButtonEl.style.display =\n",
              "        google.colab.kernel.accessAllowed ? 'block' : 'none';\n",
              "    })();\n",
              "  </script>\n",
              "</div>\n",
              "    </div>\n",
              "  </div>\n"
            ]
          },
          "metadata": {},
          "execution_count": 4
        }
      ]
    },
    {
      "cell_type": "code",
      "execution_count": 5,
      "metadata": {
        "id": "BTpz_m2TKbqR",
        "colab": {
          "base_uri": "https://localhost:8080/"
        },
        "outputId": "57e1e651-e616-4279-f4ef-b1580cc90b76"
      },
      "outputs": [
        {
          "output_type": "execute_result",
          "data": {
            "text/plain": [
              "[['LBR', 'LBK', 'LBB', 'BQ', 'BK', 'RBB', 'RBK', 'RBR'],\n",
              " ['BP1', 'BP2', 'BP3', 'BP4', 'BP5', 'BP6', 'BP7', 'BP8'],\n",
              " ['0', '0', '0', '0', '0', '0', '0', '0'],\n",
              " ['0', '0', '0', '0', '0', '0', '0', '0'],\n",
              " ['0', '0', '0', '0', '0', '0', '0', '0'],\n",
              " ['0', '0', '0', '0', '0', '0', '0', '0'],\n",
              " ['WP1', 'WP2', 'WP3', 'WP4', 'WP5', 'WP6', 'WP7', 'WP8'],\n",
              " ['LWR', 'LWK', 'LWB', 'WQ', 'WK', 'RWB', 'RWK', 'RWR']]"
            ]
          },
          "metadata": {},
          "execution_count": 5
        }
      ],
      "source": [
        "import numpy as np\n",
        "\n",
        "m=8\n",
        "n=8\n",
        "board=[[\"LBR\",\"LBK\",\"LBB\",\"BQ\",\"BK\",\"RBB\",\"RBK\",\"RBR\"],\n",
        " ['BP1', 'BP2', 'BP3', 'BP4', 'BP5', 'BP6', 'BP7', 'BP8'],\n",
        "  ['0', '0', '0', '0', '0', '0', '0', '0'],\n",
        "       ['0', '0', '0', '0', '0', '0', '0', '0'],\n",
        "       ['0', '0', '0', '0', '0', '0', '0', '0'],\n",
        "       ['0', '0', '0', '0', '0', '0', '0', '0'],\n",
        "       ['WP1', 'WP2', 'WP3', 'WP4', 'WP5', 'WP6', 'WP7', 'WP8'],\n",
        "       [\"LWR\",\"LWK\",\"LWB\",\"WQ\",\"WK\",\"RWB\",\"RWK\",\"RWR\"]\n",
        "]\n",
        "board"
      ]
    },
    {
      "cell_type": "code",
      "source": [
        "pawn=['BP1', 'BP2', 'BP3', 'BP4', 'BP5', 'BP6', 'BP7', 'BP8','WP1', 'WP2', 'WP3', 'WP4', 'WP5', 'WP6', 'WP7', 'WP8']\n",
        "king=['BK','WK']\n",
        "queen=['BK','WK']\n",
        "rook=[\"LBR\",\"RBR\",\"LWR\",\"RWR\"]\n",
        "bishop=[\"LBB\",\"RBB\",\"LWB\",\"RWB\"]\n",
        "knight=[\"LBK\",\"RBK\",\"LWK\",\"RWK\"]\n",
        "black=[\"LBR\",\"LBK\",\"LBB\",\"BQ\",\"BK\",\"RBB\",\"RBK\",\"RBR\",'BP1', 'BP2', 'BP3', 'BP4', 'BP5', 'BP6', 'BP7', 'BP8']\n",
        "white= ['WP1', 'WP2', 'WP3', 'WP4', 'WP5', 'WP6', 'WP7', 'WP8',\"LWR\",\"LWK\",\"LWB\",\"WQ\",\"WK\",\"RWB\",\"RWK\",\"RWR\"]"
      ],
      "metadata": {
        "id": "V1ecCvmSHq7m"
      },
      "execution_count": 6,
      "outputs": []
    },
    {
      "cell_type": "code",
      "source": [
        "def mpc(pc):\n",
        "  if(pc==\"black\"):\n",
        "    up=+1\n",
        "    down=-1\n",
        "    left=+1\n",
        "    right=-1\n",
        "  elif(pc==\"white\"):\n",
        "    up=-1\n",
        "    down=+1\n",
        "    left=-1\n",
        "    right=+1\n",
        "  return [up,down,left,right]"
      ],
      "metadata": {
        "id": "bk3KC3ahMftf"
      },
      "execution_count": 7,
      "outputs": []
    },
    {
      "cell_type": "code",
      "source": [
        "def pawn(piece,pc,plc):\n",
        "  mov=mpc(pc)\n",
        "  up=mov[0]\n",
        "  down=mov[1]\n",
        "  left=mov[2]\n",
        "  right= mov[3]\n",
        "  for i in range(1):\n",
        "    try:\n",
        "      x=plc[0]\n",
        "      y=plc[1]\n",
        "      if(board[x+up][y]=='0'):\n",
        "        print(\"space to go front\")\n",
        "      else:\n",
        "        print(\"Blocked by \" + board[x+up][y])\n",
        "\n",
        "      if(board[x+up][y+right] !='0'):\n",
        "        print(\"Enemy to strike\"+ board[x+up][y+right])\n",
        "\n",
        "      if(board[x+up][y-left] !='0'):\n",
        "        print(\"Enemy to strike\"+ board[x+up][y-left])\n",
        "    except:\n",
        "      pass"
      ],
      "metadata": {
        "id": "wbTBqkscJXjV"
      },
      "execution_count": 8,
      "outputs": []
    },
    {
      "cell_type": "code",
      "source": [
        "def bishop(piece,pc,plc):\n",
        "  mov=mpc(pc)\n",
        "  up=mov[0]\n",
        "  down=mov[1]\n",
        "  left=mov[2]\n",
        "  right= mov[3]\n",
        "  for i in range(1):\n",
        "    try:\n",
        "      x=plc[0]\n",
        "      y=plc[1]\n",
        "      if(board[x+up][y+]=='0'):\n",
        "        print(\"space to go diagonal\")\n",
        "      else:\n",
        "        print(\"Blocked by \" + board[x+up][y])\n",
        "\n",
        "      if(board[x+up][y+right] !='0'):\n",
        "        print(\"Enemy to strike\"+ board[x+up][y+right])\n",
        "\n",
        "      if(board[x+up][y-left] !='0'):\n",
        "        print(\"Enemy to strike\"+ board[x+up][y-left])\n",
        "    except:\n",
        "      pass"
      ],
      "metadata": {
        "id": "Ay-IYWTKVIDC",
        "colab": {
          "base_uri": "https://localhost:8080/",
          "height": 140
        },
        "outputId": "37b64d9a-2e89-4cee-f8ef-d98011a479cf"
      },
      "execution_count": 9,
      "outputs": [
        {
          "output_type": "error",
          "ename": "SyntaxError",
          "evalue": "ignored",
          "traceback": [
            "\u001b[0;36m  File \u001b[0;32m\"<ipython-input-9-e856c2dfb965>\"\u001b[0;36m, line \u001b[0;32m11\u001b[0m\n\u001b[0;31m    if(board[x+][y]=='0'):\u001b[0m\n\u001b[0m               ^\u001b[0m\n\u001b[0;31mSyntaxError\u001b[0m\u001b[0;31m:\u001b[0m invalid syntax\n"
          ]
        }
      ]
    },
    {
      "cell_type": "code",
      "source": [
        "board[1][2]"
      ],
      "metadata": {
        "colab": {
          "base_uri": "https://localhost:8080/",
          "height": 35
        },
        "id": "27U8c8KwNOdK",
        "outputId": "0f3a0657-7f41-458d-c4e1-f5de48906efe"
      },
      "execution_count": null,
      "outputs": [
        {
          "output_type": "execute_result",
          "data": {
            "text/plain": [
              "'BP3'"
            ],
            "application/vnd.google.colaboratory.intrinsic+json": {
              "type": "string"
            }
          },
          "metadata": {},
          "execution_count": 12
        }
      ]
    }
  ]
}