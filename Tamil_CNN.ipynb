{
  "nbformat": 4,
  "nbformat_minor": 0,
  "metadata": {
    "colab": {
      "provenance": [],
      "authorship_tag": "ABX9TyOJQdM8maK1n2uT88oZn5U/",
      "include_colab_link": true
    },
    "kernelspec": {
      "name": "python3",
      "display_name": "Python 3"
    },
    "language_info": {
      "name": "python"
    }
  },
  "cells": [
    {
      "cell_type": "markdown",
      "metadata": {
        "id": "view-in-github",
        "colab_type": "text"
      },
      "source": [
        "<a href=\"https://colab.research.google.com/github/Sehastrajit/Projects/blob/main/Tamil_CNN.ipynb\" target=\"_parent\"><img src=\"https://colab.research.google.com/assets/colab-badge.svg\" alt=\"Open In Colab\"/></a>"
      ]
    },
    {
      "cell_type": "code",
      "execution_count": 1,
      "metadata": {
        "id": "EIGRtyyo0Isa"
      },
      "outputs": [],
      "source": [
        "def load_acchu_data(mode='train'):\n",
        "    path = os.path.split(__file__)[0]\n",
        "    labels_path = os.path.join(path,'data',mode+'-label-onehot.npy')\n",
        "    images_path = os.path.join(path,'data',mode+'-image.npy')\n",
        "    labels = np.load(labels_path)\n",
        "    images = np.load(images_path)\n",
        "    # skip the rows which are more than 2 sides exceeding boundary.\n",
        "    keep_rows = []\n",
        "    for i in range(images.shape[0]):\n",
        "        img = images[i,:].reshape(28,28)\n",
        "        hasTopFilled=any(img[0,:])\n",
        "        hasBotFilled=any(img[27,:])\n",
        "        hasLeftFilled=any(img[:,0])\n",
        "        hasRightFilled=any(img[:,27])\n",
        "        if sum([hasBotFilled, hasTopFilled, hasLeftFilled, hasRightFilled]) < 2:\n",
        "            keep_rows.append(i)\n",
        "    return labels[keep_rows,:],images[keep_rows,:]\n"
      ]
    },
    {
      "cell_type": "code",
      "source": [],
      "metadata": {
        "id": "jjHXGbky0ZXW"
      },
      "execution_count": null,
      "outputs": []
    }
  ]
}